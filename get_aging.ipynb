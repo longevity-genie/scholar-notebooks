{
  "metadata" : {
    "config" : {
      "dependencies" : {
        "scala" : [
          "com.github.antonkulaga:spark-extensions:0.2.4",
          "com.github.pathikrit:better-files_2.13:4.0.0-M1+39-cd4d3dc4-SNAPSHOT",
          "com.lihaoyi:pprint_2.13:0.7.0"
        ]
      },
      "exclusions" : [
      ],
      "repositories" : [
        {
          "maven" : {
            "base" : "http://central.maven.org/maven2/"
          }
        },
        {
          "maven" : {
            "base" : "http://oss.sonatype.org/content/repositories/snapshots"
          }
        },
        {
          "maven" : {
            "base" : "https://jitpack.io"
          }
        }
      ],
      "sparkConfig" : {
        "master" : "http://spark:7070[24]",
        "spark.driver.memory" : "36g",
        "spark.executor.memory" : "80g"
      },
      "env" : {
        
      }
    },
    "language_info" : {
      "name" : "scala"
    }
  },
  "nbformat" : 4,
  "nbformat_minor" : 0,
  "cells" : [
    {
      "cell_type" : "markdown",
      "execution_count" : 0,
      "metadata" : {
        "language" : "text"
      },
      "language" : "text",
      "source" : [
        "# get aging\n",
        "\n",
        "This is a text cell. Start editing!"
      ],
      "outputs" : [
      ]
    },
    {
      "cell_type" : "code",
      "execution_count" : 1,
      "metadata" : {
        "cell.metadata.exec_info" : {
          "startTs" : 1690805983791,
          "endTs" : 1690805984844
        },
        "language" : "scala"
      },
      "language" : "scala",
      "source" : [
        "val runtime = Runtime.getRuntime\n",
        "val maxMemory = runtime.maxMemory / 1024 / 1024  // Convert bytes to MB\n",
        "println(s\"Max memory: $maxMemory MB\")"
      ],
      "outputs" : [
        {
          "name" : "stdout",
          "text" : [
            "Max memory: 36864 MB\n"
          ],
          "output_type" : "stream"
        }
      ]
    },
    {
      "cell_type" : "code",
      "execution_count" : 2,
      "metadata" : {
        "cell.metadata.exec_info" : {
          "startTs" : 1690805988172,
          "endTs" : 1690805988537
        },
        "language" : "scala"
      },
      "language" : "scala",
      "source" : [
        "import org.apache.spark.{io => spark_io}\n",
        "import org.apache.spark.sql.types._\n",
        "import scala.reflect.runtime.universe._\n",
        "import org.apache.spark.storage.StorageLevel\n",
        "import org.apache.spark.rdd._\n",
        "import org.apache.spark.sql._\n",
        "import org.apache.spark.sql.functions._\n",
        "import org.apache.spark.sql.expressions._\n",
        "import group.research.aging.spark.extensions._\n",
        "import group.research.aging.spark.extensions.functions._\n",
        "import kernel.display.html"
      ],
      "outputs" : [
      ]
    },
    {
      "cell_type" : "code",
      "execution_count" : 3,
      "metadata" : {
        "cell.metadata.exec_info" : {
          "startTs" : 1690805991099,
          "endTs" : 1690805991371
        },
        "language" : "scala"
      },
      "language" : "scala",
      "source" : [
        "import better.files._\n",
        "import java.io.{File => JFile}"
      ],
      "outputs" : [
      ]
    },
    {
      "cell_type" : "code",
      "execution_count" : 4,
      "metadata" : {
        "cell.metadata.exec_info" : {
          "startTs" : 1690805992338,
          "endTs" : 1690805993465
        },
        "language" : "scala"
      },
      "language" : "scala",
      "source" : [
        "val data = File(\"/data\")\n",
        "val s2orc = data / \"papers\" / \"s2orc\" \n",
        "val all_pubmed_file = s2orc / \"all_pubmed.parquet\"\n",
        "val all_aging_pubmed_file = s2orc / \"all_aging_pubmed.parquet\""
      ],
      "outputs" : [
      ]
    },
    {
      "cell_type" : "code",
      "execution_count" : 15,
      "metadata" : {
        "cell.metadata.exec_info" : {
          "startTs" : 1690806032677,
          "endTs" : 1690806041151
        },
        "language" : "scala"
      },
      "language" : "scala",
      "source" : [
        "val all_pubmed = spark.read.parquet(all_pubmed_file.pathAsString)\n",
        "all_pubmed.show(10,100)"
      ],
      "outputs" : [
        {
          "name" : "stdout",
          "text" : [
            "+---------+--------------------+-----------------------------+----------------------------------------------------------------------------------------------------+----------------------------+----------------------------------------+----------------------+---------------+-----------------+-----------------------------+-----------------------------+---------------+------------------+-------------------------+----------------------------------------------------------------------------------------------------+----------------------------------------------------------------------------------------------------+----------------------------------------------------------------------------------------------------+----------------------------------------------------------------------------------------------------+----------------------------------------------------------------------------------------------------+---------------------------------------------------------------------------------------------+----------------------------------------------------------------------------------------------------+----------------------------------------------------------------------------------------------------+----------------------------------------------------------------------------------------------------+----------------------------------------------------------------------------------------------------+----------------------------------------------------------------------------------------------------+----------------------------------------------------------------------------------------------------+----------------------------------------------------------------------------------------------------+----------------------------------------------------------------------------------------------------+----------------------------------------------------------------------------------------------------+----------------------------------------------------------------------------------------------------+-------------------+----------------------------------------------------------------------------------------------------+---------------------+----------------------------------------------------------------------------------------------------+----------------------------------------------------------------------------------------------------+-----------------------------------------------------------+----------------------------------------------------------------------------------------------------+-----------------------------------------+\n",
            "| corpusid|             updated|content_source_oainfo_license|                                                                 content_source_oainfo_openaccessurl|content_source_oainfo_status|                   content_source_pdfsha|content_source_pdfurls|externalids_acl|externalids_arxiv|             externalids_dblp|              externalids_doi|externalids_mag|externalids_pubmed|externalids_pubmedcentral|                                                                                        content_text|                                                                                annotations_abstract|                                                                                  annotations_author|                                                                       annotations_authoraffiliation|                                                                         annotations_authorfirstname|                                                                   annotations_authorlastname|                                                                               annotations_bibauthor|                                                                      annotations_bibauthorfirstname|                                                                       annotations_bibauthorlastname|                                                                                annotations_bibentry|                                                                                  annotations_bibref|                                                                                annotations_bibtitle|                                                                                annotations_bibvenue|                                                                                  annotations_figure|                                                                           annotations_figurecaption|                                                                               annotations_figureref|annotations_formula|                                                                               annotations_paragraph|annotations_publisher|                                                                           annotations_sectionheader|                                                                                   annotations_table|                                       annotations_tableref|                                                                                   annotations_title|                        annotations_venue|\n",
            "+---------+--------------------+-----------------------------+----------------------------------------------------------------------------------------------------+----------------------------+----------------------------------------+----------------------+---------------+-----------------+-----------------------------+-----------------------------+---------------+------------------+-------------------------+----------------------------------------------------------------------------------------------------+----------------------------------------------------------------------------------------------------+----------------------------------------------------------------------------------------------------+----------------------------------------------------------------------------------------------------+----------------------------------------------------------------------------------------------------+---------------------------------------------------------------------------------------------+----------------------------------------------------------------------------------------------------+----------------------------------------------------------------------------------------------------+----------------------------------------------------------------------------------------------------+----------------------------------------------------------------------------------------------------+----------------------------------------------------------------------------------------------------+----------------------------------------------------------------------------------------------------+----------------------------------------------------------------------------------------------------+----------------------------------------------------------------------------------------------------+----------------------------------------------------------------------------------------------------+----------------------------------------------------------------------------------------------------+-------------------+----------------------------------------------------------------------------------------------------+---------------------+----------------------------------------------------------------------------------------------------+----------------------------------------------------------------------------------------------------+-----------------------------------------------------------+----------------------------------------------------------------------------------------------------+-----------------------------------------+\n",
            "|259199132|2023-07-04T05:53:45Z|                       CCBYNC|                                                                                                null|                        null|273eecba6e13abbc7dfd8697a0b24efc7159a74f|                  null|           null|             null|                         null|    10.1177/11782218231181274|           null|          37342586|                 10278416|\\nCharacteristics of Outpatient and Residential Substance Use Disorder Treatment Facilities with ...|[Lesbian, gay, bisexual, and transgender (LGBT)individuals have a high prevalence of substance us...|[Orrin D Ware oware@unc.edu \\nCarolina at Chapel Hill School of Social Work\\nUniversity of North\\...|[Carolina at Chapel Hill School of Social Work\\nUniversity of North\\nChapel HillNCUSA, University...|                                  [Orrin, D, Anna, E, Ankur, Hayden, C, Dicky, William, J, Orrin, D]|                                        [Ware, Austin, Srivastava, Dawes, Baruah, Hall, Ware]|[N H Kalin, , V S Tardelli, , S S Martins, , T M Fidalgo, , M Shokoohi, , D J Kinitz, , D Pinto, ...|[N, H, V, S, S, S, T, M, M, D, J, D, B, D, O, M, S, C, E, R, J, R, L, M, S, D, M, J, G, S, E, A, ...|[Kalin, Tardelli, Martins, Fidalgo, Shokoohi, Kinitz, Pinto, Capistrant, Nakash, Schuler, Rice, E...|[Substance Abuse and Mental Health Services Administration. Key substance use and mental health i...|[1, [2], [3], [4], [5], 6, 7, [8], [9], [10], [11], [12], [13], 16, 17, 4,, 5,, [18], [19], [20],...|[Substance Abuse and Mental Health Services Administration. Key substance use and mental health i...|[NSDUH Series H-57). 2023. Accessed, Am J Psychiatry, Addict Behav, Drug Alcohol Depend, LGBT Hea...|[\\nTable 1 .\\n1Facility characteristics of substance use disorder treatment programs.VARiABlE \\nA...|[Facility characteristics of substance use disorder treatment programs., logistic regression anal...|                                                                                                  []|                 []|[The growing burden of substance use disorders (SUDs) in the United States is a significant publi...|                   []|[Introduction, 2, Substance Abuse: Research and Treatment, Methods Sample, Measures, Data analysi...|[VARiABlE \\nAll FACiliTiES N, (%) \\nFACiliTiES WiTH \\nOUTPATiENT \\nTREATMENT N, (%) \\n\\nFACiliTiE...|                                         [Table 1, Table 3]|[Characteristics of Outpatient and Residential Substance Use Disorder Treatment Facilities with a...|[Substance Abuse: Research and Treatment]|\n",
            "|259172835|2023-07-04T06:15:31Z|                          CC0|                                                                                                null|                        null|189e60ef91d79daeac3bef26e230317364a34974|                  null|           null|             null|                         null|                         null|           null|          37320373|                  9956513|\\n\\n\\n\\n\\nDecrease of Medical Students\\n\\n\\nWe cannot yet gather from our exchanges sufficient re...|[We cannot yet gather from our exchanges sufficient returns to enable us to present a table, show...|                                                                [\\nDecrease of Medical Students\\n\\n]|                                                                    [Decrease of Medical Students\\n]|                                                                                                  []|                                                                                           []|                                                                                                  []|                                                                                                  []|                                                                                                  []|                                                                                                  []|                                                                                                  []|                                                                                                  []|                                                                                                  []|                                                                                                  []|                                                                                                  []|                                                                                                  []|                 []|[mately a most salutary change in our system of medical educa tion. Not a few have hastily procla...|                   []|                                                                                                  []|                                                                                                  []|                                                         []|                                                                                                  []|                                       []|\n",
            "|259174400|2023-07-04T05:45:04Z|                          CC0|                                                                                                null|                        null|50b39004f7489d4774bce48a7f847bd027e9e802|                  null|           null|             null|                         null|                         null|           null|          37320323|                  9956438|\\n\\n\\nHonors Properly Bestowed.\\nIt is well known that during the latter part of the past summer,...|[It is well known that during the latter part of the past summer, the city of Savannah, Ga., was ...|                                                                                                  []|                                                                                                  []|                                                                                                  []|                                                                                           []|                                                                                                  []|                                                                                                  []|                                                                                                  []|                                                                                                  []|                                                                                                  []|                                                                                                  []|                                                                                                  []|                                                                                                  []|                                                                                                  []|                                                                                                  []|                 []|[Acne.-For the cure of these troublesome and unseemly pim ples which so often appear on the face,...|                   []|                                                                                                  []|                                                                                                  []|                                                         []|                                                                                                  []|                                       []|\n",
            "|259192880|2023-07-03T05:48:54Z|                       CCBYNC|                                                                 https://doi.org/10.2147/jpr.s411923|                        GOLD|7fe9de36c7f7d30fa650676fdc301de3d05eaca8|                  null|           null|             null|                         null|          10.2147/jpr.s411923|           null|          37337608|                 10277027|\\nSkin Temperature of Acupoints in Health and Primary Dysmenorrhea Patients: A Systematic Review ...|[Objective: Dysmenorrhea is a common clinical condition and some studies shown that the skin temp...|[Xuesong Wang \\nSchool of Acupuncture-Moxibustion and Tuina\\nHebei University of Chinese Medicine...|[School of Acupuncture-Moxibustion and Tuina\\nHebei University of Chinese Medicine\\nShijiazhuangH...|   [Xuesong, Guang, Jun, Juncha, Xuliang, Xisheng, Xuxin, Yuanbo, Hao, Cun-Zhi, Yanfen, Jun, Yanfen]|                         [Wang, Zuo, Liu, Zhang, Shi, Fan, Li, Gao, Chen, Liu, She, Liu, She]|[G Lefebvre, , O Pinsonneault, , V Antao, , M Burnett, , M Lemyre, , No, , S Iacovides, , I Avido...|[G, O, V, M, M, S, I, F, C, M, S, M, D, A, Vincenzo, M, A, S, F, M, P, F, Z, L, L, A, C, H, W, N,...|[Lefebvre, Pinsonneault, Antao, Burnett, Lemyre, No, Iacovides, Avidon, Baker, Sharghi, Mansurkha...|[Primary dysmenorrhea consensus guideline. G Lefebvre, O Pinsonneault, V Antao, J Obstet Gynaecol...|[1, 2, [3], [4], [5], 6, 7,, 8, 9, 10, [11], [12], [13], 14, 15, [16], [17], [18], [19], [20], 21...|[Primary dysmenorrhea consensus guideline, 345-primary dysmenorrhea consensus guideline, What we ...|[J Obstet Gynaecol Can, J Obstet Gynaecol Can, Hum Reprod Update, JBRA Assist Reprod, Pediatr End...|[\\n\\n://doi.org/10.2147/JPR.S411923, \\n\\n,31 A total of 14 acupoints' skin temperature were repor...|[://doi.org/10.2147/JPR.S411923, ,31 A total of 14 acupoints' skin temperature were reported: San...|                                                           [Figure 1, Figure 2, Figure 3, (Figure 9]|                 []|[Dysmenorrhoea is a common clinical disease, with cyclic pelvic pain or lumbosacral pain as the m...|                   []|[Introduction, Exclusion Criteria, Literature Screening and Data Extraction, Quality Assessment o...|[Study \\nCountry Sample \\n\\nSize \\n\\n(Case/ \\nControl) \\n\\nAge (Case/ \\n\\nControl) \\n\\nCourse \\n\\...|                                [Table 1, Table 2, Table 3]|[Skin Temperature of Acupoints in Health and Primary Dysmenorrhea Patients: A Systematic Review a...|                                       []|\n",
            "|259195912|2023-07-08T01:25:58Z|                         null|                                                                                                null|                        null|062f85d2a08ea9f257b9fbf9d66461dc56035584|                  null|           null|             null|                         null|    10.3389/fonc.2023.1220435|           null|          37409253|                 10319421|\\nEmerging trends and research foci in autophagy of pancreatic cancer: a bibliometric and visuali...|[Objective: The purpose of this study was to analyze the trends by year, country, institution, jo...|[Linlin Fan \\nDalian Medical University\\nDalian, LiaoningChina\\n\\nDepartment of Pathology\\nLinyi ...|[Dalian Medical University\\nDalian, LiaoningChina, Department of Pathology\\nLinyi People's Hospit...|[Linlin, Zhiyong, Lili, Xiaojie, Hong, Zhendong, Saif, Usman, Ayub, Hong, Fan, L, Wei, Z, L, Qi, ...|                                           [Fan, Wei, Liu, Qi, Yu, Jin, Ullah, Awan, Yu, Liu]|[H Sung, , J Ferlay, , R L Siegel, , M Laversanne, , I Soerjomataram, , A Jemal, , C Xie, , X Xu,...|[H, J, R, L, M, I, A, C, X, X, S, L, J, D, J, G, R, K, E, H, A, P, R, J, B, J, C, J, D, X, R, G, ...|[Sung, Ferlay, Siegel, Laversanne, Soerjomataram, Jemal, Xie, Xu, Wang, Wei, Shao, Chen, Klionsky...|[Global cancer statistics 2020: GLOBOCAN estimates of incidence and mortality worldwide for 36 ca...|[(1), (3), (4), (5), (6), (7), (8), (9), (9), (10), (11), (12,, 13), (14), (15), (16), (17), (18)...|[Global cancer statistics 2020: GLOBOCAN estimates of incidence and mortality worldwide for 36 ca...|[CA Cancer J Clin, Oncol Lett, EMBO J, J Hematol Oncol, Cell Res, Front Oncol, Nat Cell Biol, Cel...|[\\n\\nA total of 65 countries/regions published studies of the autophagy of PC. China has the grea...|[A total of 65 countries/regions published studies of the autophagy of PC. China has the greatest...|[(Figure 1, Figure 2, Figure 3A, Figure 3B, Figures 3C, D), Figures 4A, B), Figure 4C, Figure 4D,...|                 []|[Pancreatic cancer (PC) is a common digestive system tumor and has become the fourth cause of tum...|                   []|[Introduction, Materials and methods, Data sources and search strategies, Bibliometric analysis, ...|[Literature published in non-English language \\n\\n(4) Conference literature and other non-monogra...|[Table 1), Table 2, Table 3), (Table 4, (Table 1), Table 4]|[Emerging trends and research foci in autophagy of pancreatic cancer: a bibliometric and visualiz...|                           [Front. Oncol]|\n",
            "|259196576|2023-07-05T05:44:15Z|                         null|                                                                                                null|                        null|4f60af68e4f902fc1fba8a4e41f1ad91b845e8c6|                  null|           null|             null|journals/jcheminf/GalgonekV23|   10.1186/s13321-023-00729-5|           null|          37340506|                 10280967|\\nREVIEW Open Access A comparison of approaches to accessing existing biological and chemical rel...|[Current biological and chemical research is increasingly dependent on the reusability of previou...|                                                                  [Jakub Galgonek , Jiří Vondrášek ]|                                                                                                  []|                                                                                       [Jakub, Jiří]|                                                                        [Galgonek, Vondrášek]|[M D Wilkinson, , Y Wang, , D Mendez, , R Alcantara, , J Juracka, , M Srejber, , M Melikova, , V ...|[M, D, Y, D, R, J, M, M, V, K, C, P, M, J, A, E, F, Openlink, N, Ontotext, S, N, C, Apache, J, J,...|[Wilkinson, Wang, Mendez, Alcantara, Juracka, Srejber, Melikova, Bazgier, Berka, Uniprot, Bansal,...|[The FAIR Guiding Principles for scientific data management and stewardship. M D Wilkinson, Sci D...|[[1], [2], [3], [4], [5], [6], [7], [8], [9], [10], [11], [12], [13], [6,, 14], [15], [16], [17],...|[The FAIR Guiding Principles for scientific data management and stewardship, PubChem BioAssay: 20...|[Sci Data, Nucleic Acids Res, Nucleic Acids Res, Nucleic Acids Res, Database, Accessed, W3C (2013...|[\\nFig. 1\\n1Examples, \\nFig. 2\\n2Example of translations of a simple SPARQL query, \\nFig. 3\\n3Exa...|[Examples, Example of translations of a simple SPARQL query, Example of translations of a more co...|[Fig. 1a, Fig. 1b, Fig. 2a, (Fig. 2b), (Fig. 2c), (Fig. 2d), Fig. 3a, (Fig. 3b and c), (Fig. 3d),...|                 []|[Modern biological and chemical research generates a massive and ever-increasing amount of data o...|                   []|[Introduction, Resource Description Framework, Relational database, RDB-to-RDF mapping, Querying ...|[Database system \\nDatabase size (in GB) \\n\\nDirectly \\nreferenced \\n\\nIndirectly \\nreferenced \\n...|                                         [Table 1, Table 2]|[REVIEW Open Access A comparison of approaches to accessing existing biological and chemical rela...|             [Journal of Cheminformatics]|\n",
            "|259199102|2023-07-04T05:43:27Z|                       CCBYNC|                                                           https://doi.org/10.1136/tsaco-2023-001138|                        GOLD|ef6b19080a0510af0393a9acf778e2ff2c17b7cd|                  null|           null|             null|                         null|    10.1136/tsaco-2023-001138|           null|          37342818|                 10277530|\\nIn their own words: recovery after emergency general surgery in the older patient\\n2023\\n\\nVane...|[Objectives Emergency general surgery (EGS) conditions, such as perforated intestines or complica...|[Vanessa P Ho \\nSurgery\\nMetroHealth Medical Center\\nClevelandOhioUSA\\n\\nPopulation and Quantitat...|[Surgery\\nMetroHealth Medical Center\\nClevelandOhioUSA, Population and Quantitative Health Scienc...|              [Vanessa, P, Mary, Joan, Kristen, A, Divya, L, Peter, Brianna, Adam, T, Vanessa, P, ;]|                           [Ho, Roach, Berg, Deverakonda, Kanuika, Arko, Perzynski, Ho, Vho@]|[S Shafi, , M B Aboutanos, , S AgarwalJr, , Cvr Brown, , M Crandall, , D V Feliciano, , O Guillam...|[S, M, B, S, Cvr, M, D, V, O, A, K, T, M, S, C, S, V, Y, D, J, S, A, A, A, H, C, K, D, A, E, R, S...|[Shafi, Aboutanos, Agarwal, Brown, Crandall, Feliciano, Guillamondegui, Haider, Inaba, Osler, Gal...|[Emergency general surgery: definition and estimated burden of disease. S Shafi, M B Aboutanos, S...|       [1 2, 3, 3 4, [5], [6], [7], 8, (2), 9, 10, 11, 11, 12, [13], [14], [15], [16], 13 17, 18 19]|[Emergency general surgery: definition and estimated burden of disease, The public health burden ...|[J Trauma Acute Care Surg, J Trauma Acute Care Surg, J Trauma Acute Care Surg, BMJ Open, JAMA Sur...|[\\nFigure 1\\n1Themes identified from analysis., \\n\\nAlright, now thinking back again to what your...|[Themes identified from analysis., Alright, now thinking back again to what your life looked like...|                                                                                       [figure 1, )]|                 []|[Emergency general surgery (EGS) diseases are unexpected and serious surgical diseases such as sy...|                   []|[INTRODUCTION, WHAT IS ALREADY KNOWN ON THIS TOPIC, WHAT THIS STUDY ADDS, HOW THIS STUDY MIGHT AF...|[Box 1 Interview guide \\n\\nPatient interview guide \\nTopic 1: recovery trajectory \\nThanks again ...|                                                         []|[In their own words: recovery after emergency general surgery in the older patient, In their own ...|            [Trauma Surg Acute Care Open]|\n",
            "|259199447|2023-07-09T06:20:05Z|                         CCBY|https://journals.lww.com/co-neurology/Fulltext/9900/Susceptibility_and_disease_modifier_genes_in....|                      HYBRID|d900737e23588671c7bee69db177767f56a75fdb|                  null|           null|             null|                         null| 10.1097/wco.0000000000001178|           null|          37338820|                 10328529|\\nC URRENT OPINION Susceptibility and disease modifier genes in amyotrophic lateral sclerosis: fr...|[Purpose of reviewAmyotrophic lateral sclerosis (ALS) is a severe disease characterized by the de...|                                                               [Sean W Willemse , Michael A Van Es ]|                                                                                                  []|                                                                               [Sean, W, Michael, A]|                                                                           [Willemse, Van Es]|[M A Van Es, , O Hardiman, , A Chio, , D R Rosen, , T Siddique, , D Patterson, , T J KwiatkowskiJ...|[M, A, O, A, D, R, T, D, T, J, D, A, A, L, J, I, P, V, B, C, B, T, Emc, L, A, H, Z, Y, A, R, H, S...|[Van Es, Hardiman, Chio, Rosen, Siddique, Patterson, Kwiatkowski, Bosco, Leclerc, Sreedharan, Bla...|[Amyotrophic lateral sclerosis. M A Van Es, O Hardiman, A Chio, Lancet. 390van Es MA, Hardiman O,...|[[1], [2], [3], [4], [5], [6], [7 & ,8], [7 &, [9,, 10], [11], [12 &&, [13,, 14], [15], [16,, 17]...|[Amyotrophic lateral sclerosis, Mutations in Cu/Zn superoxide dismutase gene are associated with ...|[Lancet, Nature, Science, Science, Science, Mol Neurodegener, An overview of results of ALS model...|[\\n\\nEuropean Medicines Agency; EudraCT, European Union Drug Regulating Authorities Clinical Tria...|[European Medicines Agency; EudraCT, European Union Drug Regulating Authorities Clinical Trials D...|                                                                                          [(Fig. 1)]|                 []|[It has long been recognized that there are familial as well as sporadic forms of amyotrophic lat...|                   []|[INTRODUCTION, KEY POINTS, A BRIEF HISTORY OF AMYOTROPHIC LATERAL SCLEROSIS GENETICS, FROM GENES ...|                                                                              [Clinical trials \\n\\n]|                                                 [(Table 1]|[C URRENT OPINION Susceptibility and disease modifier genes in amyotrophic lateral sclerosis: fro...|                                       []|\n",
            "|259201831|2023-07-08T08:03:30Z|                         CCBY|                                          https://pubs.acs.org/doi/pdf/10.1021/acs.inorgchem.3c01522|                      HYBRID|0fa36b566aad5e870ff723568ef059d0bdedfee1|                  null|           null|             null|                         null|10.1021/acs.inorgchem.3c01522|           null|          37338927|                 10324395|\\nMetal-complexes bearing releasable CO differently modulate amyloid aggregation\\n\\n\\nSara La Man...|[Table of contents: Figure S1: Overlay of UV-Vis spectra of Cym-Ade, Cym-Cipro and Re-Flavo, befo...|[Sara La Manna \\nDepartment of Pharmacy\\nUniversity of Naples \"Federico II\"\\n80131NaplesItaly\\n, ...|[Department of Pharmacy\\nUniversity of Naples \"Federico II\"\\n80131NaplesItaly, Department of Chem...|    [Sara, La, Valentina, Fabiana, Anna, Maria, Vittoria, Antonello, Maria, Konrad, Łukasz, Daniela]|[Manna, Roviello, Napolitano, Malfitano, Monaco, Merlino, Monti, Kowalski, Szczupak, Marasco]|                                                                                                  []|                                                                                                  []|                                                                                                  []|                                                                                                  []|                                                                                                  []|                                                                                                  []|                                                                                                  []|[\\nFigure S1 :\\nS1Overlay of UV-Vis spectra of Cym-Ade, Cym-Cipro and Re-Flavo, before and after ...|[Overlay of UV-Vis spectra of Cym-Ade, Cym-Cipro and Re-Flavo, before and after irradiation at 36...|                                                                                                  []|                 []|[The MS/MS method was set up in a Data-Dependent Acquisition mode (DDA), with a full scan ranging...|                   []|[Poland, S-3, Figure S1 :, Figure S2 :, Figure S3 :Figure S4 :, Figure S5 :, Figure S6 :S- 2 Figu...|                                                                                                  []|                                                         []|[Metal-complexes bearing releasable CO differently modulate amyloid aggregation, Metal-complexes ...|                                       []|\n",
            "|259204523|2023-07-05T05:23:26Z|                         null|                                                                                                null|                        null|6d00863eb797ac29ab6840588a266f538dc75ede|                  null|           null|             null|                         null|       10.1098/rspb.2023.0580|           null|          37339739|                 10281800|\\nSpring arrival of the common cuckoo at breeding grounds is strongly determined by environmental...|[Failure to adapt migration timing to changes in environmental conditions along migration routes ...|[Chris M Hewson chris.hewson@bto.org , Jacob G Davies \\nBritish Trust for Ornithology Scotland\\nB...|[British Trust for Ornithology Scotland\\nBeta Centre (Unit 15)\\nStirling University Innovation Pa...|                               [Chris, M, Jacob, G, Máire, Mark, G R, James, W, Philip, W, Chris, M]|                         [Hewson, Davies, Kirkland, Miller, Pearce-Higgins, Atkinson, Hewson]|[A P Møller, , D Rubolini, , E Lehikoinen, , S J Thackeray, , S E Franks, , J W Pearce-Higgins, ,...|[A, P, D, E, S, J, S, E, J, W, S, J, R, M, S, T, M, R, D, I, J, M, N, D, E, L, V, A, R, G, A, P, ...|[Møller, Rubolini, Lehikoinen, Thackeray, Franks, Pearce-Higgins, Atkinson, Bell, Botham, Brereto...|[Populations of migratory bird species that did not show a phenological response to climate chang...|[[1], [2], [3,, 4], [5,, 6], [7], [8], [9,, 10], [11,, 12], [1], [3], [13], [14,, 15], [12], [8,,...|[Populations of migratory bird species that did not show a phenological response to climate chang...|[Natl Acad. Sci. USA 105, Proc. Natl Acad. Sci. USA 105, Glob. Change Biol, Glob. Change Biol, Na...|[\\n\\nof 97 male cuckoos was tagged in the breeding seasons of 2011 to 2022 in the UK, using 5 g P...|[of 97 male cuckoos was tagged in the breeding seasons of 2011 to 2022 in the UK, using 5 g PTT-1...|                                              [figure 1, figure S1, figure S2b, figure 2), figure 2]|                 []|[Climate change has altered the arrival to the breeding grounds of many migratory bird species, w...|                   []|[Introduction, Methods, (b) Defining stopovers, (c) Defining migratory milestones, (i) Data proce...|[milestone \\nEst \\nLCI \\nUCI \\n\\ndepart breeding grounds \\n0.41 \\n0.15 \\n0.63 \\ncompletion Sahara...|                                                [(table 1)]|[Spring arrival of the common cuckoo at breeding grounds is strongly determined by environmental ...|                                       []|\n",
            "+---------+--------------------+-----------------------------+----------------------------------------------------------------------------------------------------+----------------------------+----------------------------------------+----------------------+---------------+-----------------+-----------------------------+-----------------------------+---------------+------------------+-------------------------+----------------------------------------------------------------------------------------------------+----------------------------------------------------------------------------------------------------+----------------------------------------------------------------------------------------------------+----------------------------------------------------------------------------------------------------+----------------------------------------------------------------------------------------------------+---------------------------------------------------------------------------------------------+----------------------------------------------------------------------------------------------------+----------------------------------------------------------------------------------------------------+----------------------------------------------------------------------------------------------------+----------------------------------------------------------------------------------------------------+----------------------------------------------------------------------------------------------------+----------------------------------------------------------------------------------------------------+----------------------------------------------------------------------------------------------------+----------------------------------------------------------------------------------------------------+----------------------------------------------------------------------------------------------------+----------------------------------------------------------------------------------------------------+-------------------+----------------------------------------------------------------------------------------------------+---------------------+----------------------------------------------------------------------------------------------------+----------------------------------------------------------------------------------------------------+-----------------------------------------------------------+----------------------------------------------------------------------------------------------------+-----------------------------------------+\n",
            "only showing top 10 rows\n",
            "\n"
          ],
          "output_type" : "stream"
        }
      ]
    },
    {
      "cell_type" : "markdown",
      "execution_count" : 19,
      "metadata" : {
        "language" : "text"
      },
      "language" : "text",
      "source" : [
        "Aging paper"
      ],
      "outputs" : [
      ]
    },
    {
      "cell_type" : "code",
      "execution_count" : 20,
      "metadata" : {
        "cell.metadata.exec_info" : {
          "startTs" : 1690806041159,
          "endTs" : 1690806041383
        },
        "language" : "scala"
      },
      "language" : "scala",
      "source" : [
        "import org.apache.spark.sql.DataFrame\n",
        "import org.apache.spark.sql.functions.col\n",
        "\n",
        "def filterContent(df: DataFrame, terms: List[String]): DataFrame = {\n",
        "  val regex = terms.map(term => s\"\\\\b$term\\\\b\").mkString(\"(\", \"|\", \")\")\n",
        "  df.filter(col(\"content_text\").rlike(\"(?i)\" + regex))  // Added (?i) for case-insensitive matching\n",
        "}"
      ],
      "outputs" : [
      ]
    },
    {
      "cell_type" : "code",
      "execution_count" : 21,
      "metadata" : {
        "cell.metadata.exec_info" : {
          "startTs" : 1690806042270,
          "endTs" : 1690834440900
        },
        "language" : "scala"
      },
      "language" : "scala",
      "source" : [
        "val terms_aging = List(\"aging\", \"ageing\", \"lifespan extension\", \"healthspan\", \"longevity\")\n",
        "val all_aging = filterContent(all_pubmed, terms_aging)\n",
        "all_aging.writeParquet(all_aging_pubmed_file.pathAsString)"
      ],
      "outputs" : [
        {
          "name" : "stdout",
          "text" : [
            "parts of /data/papers/s2orc/all_aging_pubmed.parquet merged!\n"
          ],
          "output_type" : "stream"
        },
        {
          "execution_count" : 21,
          "data" : {
            "text/plain" : [
              "/data/papers/s2orc/all_aging_pubmed.parquet"
            ]
          },
          "metadata" : {
            "name" : "Out",
            "type" : "String"
          },
          "output_type" : "execute_result"
        }
      ]
    },
    {
      "cell_type" : "markdown",
      "execution_count" : 25,
      "metadata" : {
        "language" : "text"
      },
      "language" : "text",
      "source" : [
        "Test"
      ],
      "outputs" : [
      ]
    },
    {
      "cell_type" : "code",
      "execution_count" : 24,
      "metadata" : {
        "cell.metadata.exec_info" : {
          "startTs" : 1690840089143,
          "endTs" : 1690840104784
        },
        "language" : "scala"
      },
      "language" : "scala",
      "source" : [
        "val all_aging_df = spark.read.parquet(all_aging_pubmed_file.pathAsString)\n",
        "all_aging_df.count()"
      ],
      "outputs" : [
        {
          "execution_count" : 24,
          "data" : {
            "text/plain" : [
              "755784"
            ]
          },
          "metadata" : {
            "name" : "Out",
            "type" : "Long"
          },
          "output_type" : "execute_result"
        }
      ]
    },
    {
      "cell_type" : "markdown",
      "execution_count" : 18,
      "metadata" : {
        "language" : "text"
      },
      "language" : "text",
      "source" : [
        "Moskalevs papers"
      ],
      "outputs" : [
      ]
    },
    {
      "cell_type" : "code",
      "execution_count" : 16,
      "metadata" : {
        "cell.metadata.exec_info" : {
          "startTs" : 1690842480996,
          "endTs" : 1690842481118
        },
        "language" : "scala"
      },
      "language" : "scala",
      "source" : [
        "import org.apache.spark.sql.DataFrame\n",
        "import org.apache.spark.sql.functions.array_contains\n",
        "\n",
        "def filterByAuthorLastName(df: DataFrame, author: String): DataFrame = {\n",
        "  df.filter(array_contains(df(\"annotations_authorlastname\"), author))\n",
        "}\n",
        "def filterByAuthorFirstName(df: DataFrame, author: String): DataFrame = {\n",
        "  df.filter(array_contains(df(\"annotations_authorfirstname\"), author))\n",
        "}"
      ],
      "outputs" : [
      ]
    },
    {
      "cell_type" : "code",
      "execution_count" : 26,
      "metadata" : {
        "cell.metadata.exec_info" : {
          "startTs" : 1690841722262,
          "endTs" : 1690842302833
        },
        "language" : "scala"
      },
      "language" : "scala",
      "source" : [
        "val all_moskalev_pubmed_file = s2orc / \"all_moskalev_pubmed.parquet\"\n",
        "val moskalev = filterByAuthorLastName(all_aging_df, \"Moskalev\")\n",
        "moskalev.writeParquet(all_moskalev_pubmed_file.pathAsString)"
      ],
      "outputs" : [
        {
          "name" : "stdout",
          "text" : [
            "parts of /data/papers/s2orc/all_moskalev_pubmed.parquet merged!\n"
          ],
          "output_type" : "stream"
        },
        {
          "execution_count" : 26,
          "data" : {
            "text/plain" : [
              "/data/papers/s2orc/all_moskalev_pubmed.parquet"
            ]
          },
          "metadata" : {
            "name" : "Out",
            "type" : "String"
          },
          "output_type" : "execute_result"
        }
      ]
    },
    {
      "cell_type" : "code",
      "execution_count" : 27,
      "metadata" : {
        "cell.metadata.exec_info" : {
          "startTs" : 1690842402433,
          "endTs" : 1690842403046
        },
        "language" : "scala"
      },
      "language" : "scala",
      "source" : [
        "val moskalev_loaded = spark.read.parquet(all_moskalev_pubmed_file.pathAsString)\n",
        "moskalev_loaded.count()"
      ],
      "outputs" : [
        {
          "execution_count" : 27,
          "data" : {
            "text/plain" : [
              "102"
            ]
          },
          "metadata" : {
            "name" : "Out",
            "type" : "Long"
          },
          "output_type" : "execute_result"
        }
      ]
    },
    {
      "cell_type" : "code",
      "execution_count" : 30,
      "metadata" : {
        "cell.metadata.exec_info" : {
          "startTs" : 1690842813963,
          "endTs" : 1690842814114
        },
        "language" : "scala"
      },
      "language" : "scala",
      "source" : [
        "moskalev_loaded.printSchema()"
      ],
      "outputs" : [
        {
          "name" : "stdout",
          "text" : [
            "root\n",
            " |-- corpusid: long (nullable = true)\n",
            " |-- updated: string (nullable = true)\n",
            " |-- content_source_oainfo_license: string (nullable = true)\n",
            " |-- content_source_oainfo_openaccessurl: string (nullable = true)\n",
            " |-- content_source_oainfo_status: string (nullable = true)\n",
            " |-- content_source_pdfsha: string (nullable = true)\n",
            " |-- content_source_pdfurls: array (nullable = true)\n",
            " |    |-- element: string (containsNull = true)\n",
            " |-- externalids_acl: string (nullable = true)\n",
            " |-- externalids_arxiv: string (nullable = true)\n",
            " |-- externalids_dblp: string (nullable = true)\n",
            " |-- externalids_doi: string (nullable = true)\n",
            " |-- externalids_mag: string (nullable = true)\n",
            " |-- externalids_pubmed: string (nullable = true)\n",
            " |-- externalids_pubmedcentral: string (nullable = true)\n",
            " |-- content_text: string (nullable = true)\n",
            " |-- annotations_abstract: array (nullable = true)\n",
            " |    |-- element: string (containsNull = true)\n",
            " |-- annotations_author: array (nullable = true)\n",
            " |    |-- element: string (containsNull = true)\n",
            " |-- annotations_authoraffiliation: array (nullable = true)\n",
            " |    |-- element: string (containsNull = true)\n",
            " |-- annotations_authorfirstname: array (nullable = true)\n",
            " |    |-- element: string (containsNull = true)\n",
            " |-- annotations_authorlastname: array (nullable = true)\n",
            " |    |-- element: string (containsNull = true)\n",
            " |-- annotations_bibauthor: array (nullable = true)\n",
            " |    |-- element: string (containsNull = true)\n",
            " |-- annotations_bibauthorfirstname: array (nullable = true)\n",
            " |    |-- element: string (containsNull = true)\n",
            " |-- annotations_bibauthorlastname: array (nullable = true)\n",
            " |    |-- element: string (containsNull = true)\n",
            " |-- annotations_bibentry: array (nullable = true)\n",
            " |    |-- element: string (containsNull = true)\n",
            " |-- annotations_bibref: array (nullable = true)\n",
            " |    |-- element: string (containsNull = true)\n",
            " |-- annotations_bibtitle: array (nullable = true)\n",
            " |    |-- element: string (containsNull = true)\n",
            " |-- annotations_bibvenue: array (nullable = true)\n",
            " |    |-- element: string (containsNull = true)\n",
            " |-- annotations_figure: array (nullable = true)\n",
            " |    |-- element: string (containsNull = true)\n",
            " |-- annotations_figurecaption: array (nullable = true)\n",
            " |    |-- element: string (containsNull = true)\n",
            " |-- annotations_figureref: array (nullable = true)\n",
            " |    |-- element: string (containsNull = true)\n",
            " |-- annotations_formula: array (nullable = true)\n",
            " |    |-- element: string (containsNull = true)\n",
            " |-- annotations_paragraph: array (nullable = true)\n",
            " |    |-- element: string (containsNull = true)\n",
            " |-- annotations_publisher: array (nullable = true)\n",
            " |    |-- element: string (containsNull = true)\n",
            " |-- annotations_sectionheader: array (nullable = true)\n",
            " |    |-- element: string (containsNull = true)\n",
            " |-- annotations_table: array (nullable = true)\n",
            " |    |-- element: string (containsNull = true)\n",
            " |-- annotations_tableref: array (nullable = true)\n",
            " |    |-- element: string (containsNull = true)\n",
            " |-- annotations_title: array (nullable = true)\n",
            " |    |-- element: string (containsNull = true)\n",
            " |-- annotations_venue: array (nullable = true)\n",
            " |    |-- element: string (containsNull = true)\n",
            "\n"
          ],
          "output_type" : "stream"
        }
      ]
    },
    {
      "cell_type" : "code",
      "execution_count" : 28,
      "metadata" : {
        "cell.metadata.exec_info" : {
          "startTs" : 1690842573245,
          "endTs" : 1690842574039
        },
        "language" : "scala"
      },
      "language" : "scala",
      "source" : [
        "filterByAuthorFirstName(moskalev_loaded, \"Alexey\").writeParquet((s2orc / \"moskalev_pubmed.parquet\").pathAsString)"
      ],
      "outputs" : [
        {
          "name" : "stdout",
          "text" : [
            "parts of /data/papers/s2orc/moskalev_pubmed.parquet merged!\n"
          ],
          "output_type" : "stream"
        },
        {
          "execution_count" : 28,
          "data" : {
            "text/plain" : [
              "/data/papers/s2orc/moskalev_pubmed.parquet"
            ]
          },
          "metadata" : {
            "name" : "Out",
            "type" : "String"
          },
          "output_type" : "execute_result"
        }
      ]
    },
    {
      "cell_type" : "code",
      "execution_count" : 29,
      "metadata" : {
        "cell.metadata.exec_info" : {
          "startTs" : 1690842728566,
          "endTs" : 1690842728699
        },
        "language" : "scala"
      },
      "language" : "scala",
      "source" : [
        "val all_tacutu_pubmed_file = s2orc / \"all_tacutu_pubmed.parquet\"\n",
        "val tacutu = filterByAuthorLastName(all_aging_df, \"Tacutu\")\n",
        "tacutu.writeParquet(all_tacutu_pubmed_file.pathAsString)"
      ],
      "outputs" : [
        {
          "ename" : "org.apache.spark.sql.AnalysisException",
          "evalue" : "[PATH_ALREADY_EXISTS] Path file:/data/papers/s2orc/all_tacutu_pubmed.parquet already exists. Set mode as \"overwrite\" to overwrite the existing path.",
          "traceback" : [
            "org.apache.spark.sql.errors.QueryCompilationErrors$,outputPathAlreadyExistsError,QueryCompilationErrors.scala,1585",
            "org.apache.spark.sql.execution.datasources.InsertIntoHadoopFsRelationCommand,run,InsertIntoHadoopFsRelationCommand.scala,123",
            "org.apache.spark.sql.execution.command.DataWritingCommandExec,sideEffectResult$lzycompute,commands.scala,113",
            "org.apache.spark.sql.execution.command.DataWritingCommandExec,sideEffectResult,commands.scala,111",
            "org.apache.spark.sql.execution.command.DataWritingCommandExec,executeCollect,commands.scala,125",
            "org.apache.spark.sql.execution.QueryExecution$$anonfun$eagerlyExecuteCommands$1,$anonfun$applyOrElse$1,QueryExecution.scala,98",
            "org.apache.spark.sql.execution.SQLExecution$,$anonfun$withNewExecutionId$6,SQLExecution.scala,118",
            "org.apache.spark.sql.execution.SQLExecution$,withSQLConfPropagated,SQLExecution.scala,195",
            "org.apache.spark.sql.execution.SQLExecution$,$anonfun$withNewExecutionId$1,SQLExecution.scala,103",
            "org.apache.spark.sql.SparkSession,withActive,SparkSession.scala,827",
            "org.apache.spark.sql.execution.SQLExecution$,withNewExecutionId,SQLExecution.scala,65",
            "org.apache.spark.sql.execution.QueryExecution$$anonfun$eagerlyExecuteCommands$1,applyOrElse,QueryExecution.scala,98",
            "org.apache.spark.sql.execution.QueryExecution$$anonfun$eagerlyExecuteCommands$1,applyOrElse,QueryExecution.scala,94",
            "org.apache.spark.sql.catalyst.trees.TreeNode,$anonfun$transformDownWithPruning$1,TreeNode.scala,512",
            "org.apache.spark.sql.catalyst.trees.CurrentOrigin$,withOrigin,TreeNode.scala,104",
            "org.apache.spark.sql.catalyst.trees.TreeNode,transformDownWithPruning,TreeNode.scala,512",
            "org.apache.spark.sql.catalyst.plans.logical.LogicalPlan,org$apache$spark$sql$catalyst$plans$logical$AnalysisHelper$$super$transformDownWithPruning,LogicalPlan.scala,31",
            "org.apache.spark.sql.catalyst.plans.logical.AnalysisHelper,transformDownWithPruning,AnalysisHelper.scala,267",
            "org.apache.spark.sql.catalyst.plans.logical.AnalysisHelper,transformDownWithPruning$,AnalysisHelper.scala,263",
            "org.apache.spark.sql.catalyst.plans.logical.LogicalPlan,transformDownWithPruning,LogicalPlan.scala,31",
            "org.apache.spark.sql.catalyst.plans.logical.LogicalPlan,transformDownWithPruning,LogicalPlan.scala,31",
            "org.apache.spark.sql.catalyst.trees.TreeNode,transformDown,TreeNode.scala,488",
            "org.apache.spark.sql.execution.QueryExecution,eagerlyExecuteCommands,QueryExecution.scala,94",
            "org.apache.spark.sql.execution.QueryExecution,commandExecuted$lzycompute,QueryExecution.scala,81",
            "org.apache.spark.sql.execution.QueryExecution,commandExecuted,QueryExecution.scala,79",
            "org.apache.spark.sql.execution.QueryExecution,assertCommandExecuted,QueryExecution.scala,133",
            "org.apache.spark.sql.DataFrameWriter,runCommand,DataFrameWriter.scala,856",
            "org.apache.spark.sql.DataFrameWriter,saveToV1Source,DataFrameWriter.scala,387",
            "org.apache.spark.sql.DataFrameWriter,saveInternal,DataFrameWriter.scala,360",
            "org.apache.spark.sql.DataFrameWriter,save,DataFrameWriter.scala,239",
            "org.apache.spark.sql.DataFrameWriter,parquet,DataFrameWriter.scala,789",
            "group.research.aging.spark.extensions.DataFrameExtensions$DataFrameExtended,writeParquet,DataFrameExtensions.scala,112",
            "notebook0.Cell29$2,<init>,Cell29,3",
            "jdk.internal.reflect.NativeConstructorAccessorImpl,newInstance0,NativeConstructorAccessorImpl.java,-2",
            "jdk.internal.reflect.NativeConstructorAccessorImpl,newInstance,NativeConstructorAccessorImpl.java,62",
            "jdk.internal.reflect.DelegatingConstructorAccessorImpl,newInstance,DelegatingConstructorAccessorImpl.java,45",
            "java.lang.reflect.Constructor,newInstance,Constructor.java,490",
            "polynote.kernel.interpreter.scal.ScalaInterpreter,createInstance,ScalaInterpreter.scala,173",
            "polynote.kernel.interpreter.scal.ScalaInterpreter,$anonfun$runClass$4,ScalaInterpreter.scala,185",
            "zio.blocking.package$Blocking$Service,$anonfun$effectBlockingInterrupt$5,package.scala,126",
            "zio.ZIO$,$anonfun$effectSuspend$1,ZIO.scala,2782",
            "zio.internal.FiberContext,liftedTree1$1,FiberContext.scala,571",
            "zio.internal.FiberContext,evaluateNow,FiberContext.scala,571",
            "zio.internal.FiberContext,$anonfun$fork$17,FiberContext.scala,770",
            "polynote.kernel.interpreter.CellExecutor$$anon$1,$anonfun$run$3,CellExecutor.scala,34",
            "scala.runtime.java8.JFunction0$mcV$sp,apply,JFunction0$mcV$sp.scala,18",
            "scala.util.DynamicVariable,withValue,DynamicVariable.scala,59",
            "scala.Console$,withErr,Console.scala,193",
            "polynote.kernel.interpreter.CellExecutor$$anon$1,$anonfun$run$2,CellExecutor.scala,34",
            "scala.runtime.java8.JFunction0$mcV$sp,apply,JFunction0$mcV$sp.scala,18",
            "scala.util.DynamicVariable,withValue,DynamicVariable.scala,59",
            "scala.Console$,withOut,Console.scala,164",
            "polynote.kernel.interpreter.CellExecutor$$anon$1,$anonfun$run$1,CellExecutor.scala,33",
            "scala.runtime.java8.JFunction0$mcV$sp,apply,JFunction0$mcV$sp.scala,18",
            "polynote.kernel.package$,withContextClassLoader,package.scala,67",
            "polynote.kernel.interpreter.CellExecutor$$anon$1,run,CellExecutor.scala,31",
            "java.util.concurrent.ThreadPoolExecutor,runWorker,ThreadPoolExecutor.java,1128",
            "java.util.concurrent.ThreadPoolExecutor$Worker,run,ThreadPoolExecutor.java,628",
            "java.lang.Thread,run,Thread.java,829"
          ],
          "output_type" : "error"
        }
      ]
    }
  ]
}