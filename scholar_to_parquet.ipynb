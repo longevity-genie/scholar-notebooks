{
  "metadata" : {
    "config" : {
      "dependencies" : {
        "scala" : [
          "com.github.antonkulaga:spark-extensions:0.2.4",
          "com.github.pathikrit:better-files_2.13:4.0.0-M1+39-cd4d3dc4-SNAPSHOT",
          "io.circe:circe-core_2.13:0.14.5",
          "io.circe:circe-generic_2.13:0.14.5",
          "io.circe:circe-parser_2.13:0.14.5",
          "com.lihaoyi:pprint_2.13:0.7.0"
        ]
      },
      "exclusions" : [
      ],
      "repositories" : [
        {
          "maven" : {
            "base" : "http://central.maven.org/maven2/"
          }
        },
        {
          "maven" : {
            "base" : "http://oss.sonatype.org/content/repositories/snapshots"
          }
        },
        {
          "maven" : {
            "base" : "https://jitpack.io"
          }
        }
      ],
      "sparkConfig" : {
        "master" : "http://spark:7070[12]"
      },
      "env" : {
        "master" : "http://spark:7070[16]",
        "SPARK_DRIVER_MEMORY" : "20g",
        "SPARK_EXECUTOR_MEMORY" : "80g"
      }
    },
    "language_info" : {
      "name" : "scala"
    }
  },
  "nbformat" : 4,
  "nbformat_minor" : 0,
  "cells" : [
    {
      "cell_type" : "markdown",
      "execution_count" : 0,
      "metadata" : {
        "language" : "text"
      },
      "language" : "text",
      "source" : [
        "# Scholar to parquet notebook\n",
        "\n",
        "\n",
        "Notebook to deal with parquet problems in longevity genie\n",
        "\n",
        "\n"
      ],
      "outputs" : [
      ]
    },
    {
      "cell_type" : "code",
      "execution_count" : 1,
      "metadata" : {
        "cell.metadata.exec_info" : {
          "startTs" : 1690730144320,
          "endTs" : 1690730145449
        },
        "language" : "scala"
      },
      "language" : "scala",
      "source" : [
        "val runtime = Runtime.getRuntime\n",
        "val maxMemory = runtime.maxMemory / 1024 / 1024  // Convert bytes to MB\n",
        "println(s\"Max memory: $maxMemory MB\")"
      ],
      "outputs" : [
        {
          "name" : "stdout",
          "text" : [
            "Max memory: 36864 MB\n"
          ],
          "output_type" : "stream"
        }
      ]
    },
    {
      "cell_type" : "code",
      "execution_count" : 2,
      "metadata" : {
        "cell.metadata.exec_info" : {
          "startTs" : 1690730145520,
          "endTs" : 1690730145804
        },
        "language" : "scala"
      },
      "language" : "scala",
      "source" : [
        "import io.circe.generic.auto._\n",
        "import io.circe.parser._\n",
        "import io.circe.parser.decode\n",
        "import io.circe.syntax._\n",
        "import io.circe._\n"
      ],
      "outputs" : [
      ]
    },
    {
      "cell_type" : "code",
      "execution_count" : 3,
      "metadata" : {
        "cell.metadata.exec_info" : {
          "startTs" : 1690730145814,
          "endTs" : 1690730146033
        },
        "language" : "scala"
      },
      "language" : "scala",
      "source" : [
        "import org.apache.spark.{io => spark_io}\n",
        "import org.apache.spark.sql.types._\n",
        "import scala.reflect.runtime.universe._\n",
        "import org.apache.spark.storage.StorageLevel\n",
        "import org.apache.spark.rdd._\n",
        "import org.apache.spark.sql._\n",
        "import org.apache.spark.sql.functions._\n",
        "import org.apache.spark.sql.expressions._\n",
        "import group.research.aging.spark.extensions._\n",
        "import group.research.aging.spark.extensions.functions._\n",
        "import kernel.display.html"
      ],
      "outputs" : [
      ]
    },
    {
      "cell_type" : "code",
      "execution_count" : 4,
      "metadata" : {
        "cell.metadata.exec_info" : {
          "startTs" : 1690730146044,
          "endTs" : 1690730146220
        },
        "language" : "scala"
      },
      "language" : "scala",
      "source" : [
        "import better.files._\n",
        "import java.io.{File => JFile}"
      ],
      "outputs" : [
      ]
    },
    {
      "cell_type" : "markdown",
      "execution_count" : 5,
      "metadata" : {
        "language" : "text"
      },
      "language" : "text",
      "source" : [
        "Load papers again\n",
        "\n",
        "It is assumed the papers are in /data/papers/s2orc\n",
        "\n",
        "\n"
      ],
      "outputs" : [
      ]
    },
    {
      "cell_type" : "code",
      "execution_count" : 6,
      "metadata" : {
        "cell.metadata.exec_info" : {
          "startTs" : 1690730146229,
          "endTs" : 1690730147047
        },
        "language" : "scala"
      },
      "language" : "scala",
      "source" : [
        "val data = File(\"/data\")\n",
        "val s2orc = data / \"papers\" / \"s2orc\" \n",
        "val input = s2orc / \"original\"\n",
        "val pubmed = s2orc / \"pubmed\""
      ],
      "outputs" : [
      ]
    },
    {
      "cell_type" : "code",
      "execution_count" : 7,
      "metadata" : {
        "cell.metadata.exec_info" : {
          "startTs" : 1690730147054,
          "endTs" : 1690730148012
        },
        "language" : "scala"
      },
      "language" : "scala",
      "source" : [
        "val prefix = \"20230714\"\n",
        "val paper_files = input .children.filter{f => !f.isDirectory() && f.name.startsWith(prefix)}.toList\n",
        "paper_files.foreach(println)"
      ],
      "outputs" : [
        {
          "name" : "stdout",
          "text" : [
            "/data/papers/s2orc/20230714_111942_00012_e64uq_a82fd724-5f8b-4dcf-9f59-d59531c59000\n",
            "/data/papers/s2orc/20230714_111942_00012_e64uq_2847f4cb-dccf-4a0a-aca5-e405eb86c060\n",
            "/data/papers/s2orc/20230714_111942_00012_e64uq_41a86bf3-8d2c-44b5-a5ec-d845c5e39d88\n",
            "/data/papers/s2orc/20230714_111942_00012_e64uq_c50619fc-2409-4671-ab21-78f22cc66e94\n",
            "/data/papers/s2orc/20230714_111942_00012_e64uq_1945e5da-e874-4e2d-8169-a447fc56bc6d\n",
            "/data/papers/s2orc/20230714_111942_00012_e64uq_061ba37d-7776-4179-ae0f-a97563a170e4\n",
            "/data/papers/s2orc/20230714_111942_00012_e64uq_17aa256c-f2c7-490e-a539-7ec5c767dd2b\n",
            "/data/papers/s2orc/20230714_111942_00012_e64uq_87b926e2-99f6-490e-9966-c0a5d7b70fcd\n",
            "/data/papers/s2orc/20230714_111942_00012_e64uq_ad89e368-674d-4fd5-aa29-4a8a0c32b545\n",
            "/data/papers/s2orc/20230714_111942_00012_e64uq_b76c9370-94d3-43fa-8690-8d5fa592500d\n",
            "/data/papers/s2orc/20230714_111942_00012_e64uq_11491525-0295-4d6d-9119-4afe180d474d\n",
            "/data/papers/s2orc/20230714_111942_00012_e64uq_9710ad0e-0abb-4a1b-a8d8-2d0a927650db\n",
            "/data/papers/s2orc/20230714_111942_00012_e64uq_6f7834a8-c01d-44c0-9699-c5e5059ac6a4\n",
            "/data/papers/s2orc/20230714_111942_00012_e64uq_77b91913-5dee-4296-a745-027a996aa2be\n",
            "/data/papers/s2orc/20230714_111942_00012_e64uq_dad816f4-cf5f-45f9-a193-b8cbc5b8c5b2\n",
            "/data/papers/s2orc/20230714_111942_00012_e64uq_50ba710e-a79c-4f45-9072-1c744987d682\n",
            "/data/papers/s2orc/20230714_111942_00012_e64uq_d056b2a6-d2e2-4b6a-bb25-6504e21d53ae\n",
            "/data/papers/s2orc/20230714_111942_00012_e64uq_0b2cf919-e7cc-4448-8df7-382006345add\n",
            "/data/papers/s2orc/20230714_111942_00012_e64uq_176e01eb-8dc7-474f-bb9b-ef144daec797\n",
            "/data/papers/s2orc/20230714_111942_00012_e64uq_1af209fc-121b-4ee5-b539-a9aabf0ebf22\n",
            "/data/papers/s2orc/20230714_111942_00012_e64uq_fa26c0dd-5c6d-4f66-a159-86f3013e2f9c\n",
            "/data/papers/s2orc/20230714_111942_00012_e64uq_f32a21a4-6f01-4b59-95c0-7f28eb73c926\n",
            "/data/papers/s2orc/20230714_111942_00012_e64uq_39b23e87-88e8-4273-bc47-5d6d0885f29f\n",
            "/data/papers/s2orc/20230714_111942_00012_e64uq_6cf5d0f4-35cc-45ec-8f4a-c1f3ac258109\n",
            "/data/papers/s2orc/20230714_111942_00012_e64uq_6be90075-1dfc-474c-acfe-79c1276ca297\n",
            "/data/papers/s2orc/20230714_111942_00012_e64uq_d27f8a2e-7e9f-4659-8cc4-f368c7b62dbd\n",
            "/data/papers/s2orc/20230714_111942_00012_e64uq_37b98fce-eec4-49e8-ab20-1f2d1421f85c\n",
            "/data/papers/s2orc/20230714_111942_00012_e64uq_cb4cc7bf-f2bc-4916-9981-df82ab91d60e\n",
            "/data/papers/s2orc/20230714_111942_00012_e64uq_c3d25d47-2968-424f-b84c-b5d8683cf1bc\n",
            "/data/papers/s2orc/20230714_111942_00012_e64uq_8c8564c9-376d-438e-9e07-7dcae84848c1\n"
          ],
          "output_type" : "stream"
        }
      ]
    },
    {
      "cell_type" : "code",
      "execution_count" : 22,
      "metadata" : {
        "cell.metadata.exec_info" : {
          "startTs" : 1690730189960,
          "endTs" : 1690730214410
        },
        "language" : "scala"
      },
      "language" : "scala",
      "source" : [
        "val t = paper_files.head\n",
        "val tt = spark.read.json(t.pathAsString)\n",
        "tt"
      ],
      "outputs" : [
        {
          "execution_count" : 22,
          "data" : {
            "text/plain" : [
              "[content: struct<annotations: struct<abstract: string, author: string ... 21 more fields>, source: struct<oainfo: struct<license: string, openaccessurl: string ... 1 more field>, pdfsha: string ... 1 more field> ... 1 more field>, corpusid: bigint ... 2 …"
            ]
          },
          "metadata" : {
            "name" : "Out",
            "type" : "DataFrame"
          },
          "output_type" : "execute_result"
        }
      ]
    },
    {
      "cell_type" : "markdown",
      "execution_count" : 8,
      "metadata" : {
        "language" : "text"
      },
      "language" : "text",
      "source" : [
        "Conversion papers to proper format\n",
        "\n",
        "\n"
      ],
      "outputs" : [
      ]
    },
    {
      "cell_type" : "code",
      "execution_count" : 10,
      "metadata" : {
        "cell.metadata.exec_info" : {
          "startTs" : 1690730442213,
          "endTs" : 1690730442563
        },
        "language" : "scala"
      },
      "language" : "scala",
      "source" : [
        "import org.apache.spark.sql.DataFrame\n",
        "import org.apache.spark.sql.functions._\n",
        "\n",
        "def flattenDataFrame(df: DataFrame): DataFrame = {\n",
        "  df.select(\n",
        "    $\"corpusid\",\n",
        "    $\"updated\",\n",
        "    $\"content.source.oainfo.license\".alias(\"content_source_oainfo_license\"),\n",
        "    $\"content.source.oainfo.openaccessurl\".alias(\"content_source_oainfo_openaccessurl\"),\n",
        "    $\"content.source.oainfo.status\".alias(\"content_source_oainfo_status\"),\n",
        "    $\"content.source.pdfsha\".alias(\"content_source_pdfsha\"),\n",
        "    $\"content.source.pdfurls\".alias(\"content_source_pdfurls\"),\n",
        "    $\"externalids.acl\".alias(\"externalids_acl\"),\n",
        "    $\"externalids.arxiv\".alias(\"externalids_arxiv\"),\n",
        "    $\"externalids.dblp\".alias(\"externalids_dblp\"),\n",
        "    $\"externalids.doi\".alias(\"externalids_doi\"),\n",
        "    $\"externalids.mag\".alias(\"externalids_mag\"),\n",
        "    $\"externalids.pubmed\".alias(\"externalids_pubmed\"),\n",
        "    $\"externalids.pubmedcentral\".alias(\"externalids_pubmedcentral\"),\n",
        "    $\"content.text\".alias(\"content_text\"),\n",
        "    $\"content.annotations.abstract\".alias(\"annotations_abstract\"),\n",
        "    $\"content.annotations.author\".alias(\"annotations_author\"),\n",
        "    $\"content.annotations.authoraffiliation\".alias(\"annotations_authoraffiliation\"),\n",
        "    $\"content.annotations.authorfirstname\".alias(\"annotations_authorfirstname\"),\n",
        "    $\"content.annotations.authorlastname\".alias(\"annotations_authorlastname\"),\n",
        "    $\"content.annotations.bibauthor\".alias(\"annotations_bibauthor\"),\n",
        "    $\"content.annotations.bibauthorfirstname\".alias(\"annotations_bibauthorfirstname\"),\n",
        "    $\"content.annotations.bibauthorlastname\".alias(\"annotations_bibauthorlastname\"),\n",
        "    $\"content.annotations.bibentry\".alias(\"annotations_bibentry\"),\n",
        "    $\"content.annotations.bibref\".alias(\"annotations_bibref\"),\n",
        "    $\"content.annotations.bibtitle\".alias(\"annotations_bibtitle\"),\n",
        "    $\"content.annotations.bibvenue\".alias(\"annotations_bibvenue\"),\n",
        "    $\"content.annotations.figure\".alias(\"annotations_figure\"),\n",
        "    $\"content.annotations.figurecaption\".alias(\"annotations_figurecaption\"),\n",
        "    $\"content.annotations.figureref\".alias(\"annotations_figureref\"),\n",
        "    $\"content.annotations.formula\".alias(\"annotations_formula\"),\n",
        "    $\"content.annotations.paragraph\".alias(\"annotations_paragraph\"),\n",
        "    $\"content.annotations.publisher\".alias(\"annotations_publisher\"),\n",
        "    $\"content.annotations.sectionheader\".alias(\"annotations_sectionheader\"),\n",
        "    $\"content.annotations.table\".alias(\"annotations_table\"),\n",
        "    $\"content.annotations.tableref\".alias(\"annotations_tableref\"),\n",
        "    $\"content.annotations.title\".alias(\"annotations_title\"),\n",
        "    $\"content.annotations.venue\".alias(\"annotations_venue\")\n",
        "  )\n",
        "}\n"
      ],
      "outputs" : [
      ]
    },
    {
      "cell_type" : "markdown",
      "execution_count" : 12,
      "metadata" : {
        "language" : "text"
      },
      "language" : "text",
      "source" : [
        "Extracting annotations\n",
        "\n",
        "=================\n",
        "\n",
        "\n"
      ],
      "outputs" : [
      ]
    },
    {
      "cell_type" : "markdown",
      "execution_count" : 13,
      "metadata" : {
        "language" : "text"
      },
      "language" : "text",
      "source" : [
        "Let's make "
      ],
      "outputs" : [
      ]
    },
    {
      "cell_type" : "code",
      "execution_count" : 14,
      "metadata" : {
        "cell.metadata.exec_info" : {
          "startTs" : 1690730445343,
          "endTs" : 1690730446821
        },
        "language" : "scala"
      },
      "language" : "scala",
      "source" : [
        "import org.apache.spark.sql.expressions.UserDefinedFunction\n",
        "import org.apache.spark.sql.functions.udf\n",
        "import org.apache.spark.sql.types._\n",
        "import org.apache.spark.sql.{Column, DataFrame}\n",
        "\n",
        "case class Span(start: Int, end: Int)\n",
        "\n",
        "val getSubstrings: UserDefinedFunction = udf {\n",
        "  (jsonStr: String, text: String) =>\n",
        "    val spans = decode[List[Span]](jsonStr) match {\n",
        "      case Right(spans) => spans\n",
        "      case Left(_) => List()\n",
        "    }\n",
        "\n",
        "    spans.map(span =>\n",
        "      if (span.start >= 0 && span.end <= text.length) text.substring(span.start, span.end) else \"\"\n",
        "    )\n",
        "}\n",
        "\n",
        "val udfGetSubstrings = spark.udf.register(\"getSubstrings\", getSubstrings)"
      ],
      "outputs" : [
      ]
    },
    {
      "cell_type" : "code",
      "execution_count" : 15,
      "metadata" : {
        "cell.metadata.exec_info" : {
          "startTs" : 1690730448468,
          "endTs" : 1690730448775
        },
        "language" : "scala"
      },
      "language" : "scala",
      "source" : [
        "import org.apache.spark.sql.DataFrame\n",
        "import org.apache.spark.sql.functions.col\n",
        "\n",
        "def with_extracted_annotations(df: DataFrame): DataFrame = {\n",
        "  val annotationsFields = df.schema.fields\n",
        "    .filter(_.name.startsWith(\"annotations_\"))\n",
        "    .map(_.name)\n",
        "\n",
        "  annotationsFields.foldLeft(df) { (data, field) =>\n",
        "    data.withColumn(field, udfGetSubstrings(col(field), col(\"content_text\")))\n",
        "  }\n",
        "}"
      ],
      "outputs" : [
      ]
    },
    {
      "cell_type" : "markdown",
      "execution_count" : 17,
      "metadata" : {
        "language" : "text"
      },
      "language" : "text",
      "source" : [
        "Storing everything in proper format\n",
        "\n",
        "\n"
      ],
      "outputs" : [
      ]
    },
    {
      "cell_type" : "code",
      "execution_count" : 18,
      "metadata" : {
        "cell.metadata.exec_info" : {
          "startTs" : 1690730541112,
          "endTs" : 1690761217088
        },
        "language" : "scala"
      },
      "language" : "scala",
      "source" : [
        "for(p <- paper_files){\n",
        "    val paper_nested = spark.read.json(p.pathAsString).where(col(\"externalids.pubmed\").isNotNull)\n",
        "    val paper_flatten = flattenDataFrame(paper_nested)\n",
        "    val paper = with_extracted_annotations(paper_flatten)\n",
        "    val where = (pubmed / (p.name + \".parquet\")).pathAsString\n",
        "    println(s\"started to write $where\")\n",
        "    paper.writeParquet(where, true)\n",
        "}"
      ],
      "outputs" : [
        {
          "name" : "stdout",
          "text" : [
            "started to write /data/papers/s2orc/pubmed/20230714_111942_00012_e64uq_a82fd724-5f8b-4dcf-9f59-d59531c59000.parquet\n",
            "parts of /data/papers/s2orc/pubmed/20230714_111942_00012_e64uq_a82fd724-5f8b-4dcf-9f59-d59531c59000.parquet merged!\n",
            "started to write /data/papers/s2orc/pubmed/20230714_111942_00012_e64uq_2847f4cb-dccf-4a0a-aca5-e405eb86c060.parquet\n",
            "parts of /data/papers/s2orc/pubmed/20230714_111942_00012_e64uq_2847f4cb-dccf-4a0a-aca5-e405eb86c060.parquet merged!\n",
            "started to write /data/papers/s2orc/pubmed/20230714_111942_00012_e64uq_41a86bf3-8d2c-44b5-a5ec-d845c5e39d88.parquet\n",
            "parts of /data/papers/s2orc/pubmed/20230714_111942_00012_e64uq_41a86bf3-8d2c-44b5-a5ec-d845c5e39d88.parquet merged!\n",
            "started to write /data/papers/s2orc/pubmed/20230714_111942_00012_e64uq_c50619fc-2409-4671-ab21-78f22cc66e94.parquet\n",
            "parts of /data/papers/s2orc/pubmed/20230714_111942_00012_e64uq_c50619fc-2409-4671-ab21-78f22cc66e94.parquet merged!\n",
            "started to write /data/papers/s2orc/pubmed/20230714_111942_00012_e64uq_1945e5da-e874-4e2d-8169-a447fc56bc6d.parquet\n",
            "parts of /data/papers/s2orc/pubmed/20230714_111942_00012_e64uq_1945e5da-e874-4e2d-8169-a447fc56bc6d.parquet merged!\n",
            "started to write /data/papers/s2orc/pubmed/20230714_111942_00012_e64uq_061ba37d-7776-4179-ae0f-a97563a170e4.parquet\n",
            "parts of /data/papers/s2orc/pubmed/20230714_111942_00012_e64uq_061ba37d-7776-4179-ae0f-a97563a170e4.parquet merged!\n",
            "started to write /data/papers/s2orc/pubmed/20230714_111942_00012_e64uq_17aa256c-f2c7-490e-a539-7ec5c767dd2b.parquet\n",
            "parts of /data/papers/s2orc/pubmed/20230714_111942_00012_e64uq_17aa256c-f2c7-490e-a539-7ec5c767dd2b.parquet merged!\n",
            "started to write /data/papers/s2orc/pubmed/20230714_111942_00012_e64uq_87b926e2-99f6-490e-9966-c0a5d7b70fcd.parquet\n",
            "parts of /data/papers/s2orc/pubmed/20230714_111942_00012_e64uq_87b926e2-99f6-490e-9966-c0a5d7b70fcd.parquet merged!\n",
            "started to write /data/papers/s2orc/pubmed/20230714_111942_00012_e64uq_ad89e368-674d-4fd5-aa29-4a8a0c32b545.parquet\n",
            "parts of /data/papers/s2orc/pubmed/20230714_111942_00012_e64uq_ad89e368-674d-4fd5-aa29-4a8a0c32b545.parquet merged!\n",
            "started to write /data/papers/s2orc/pubmed/20230714_111942_00012_e64uq_b76c9370-94d3-43fa-8690-8d5fa592500d.parquet\n",
            "parts of /data/papers/s2orc/pubmed/20230714_111942_00012_e64uq_b76c9370-94d3-43fa-8690-8d5fa592500d.parquet merged!\n",
            "started to write /data/papers/s2orc/pubmed/20230714_111942_00012_e64uq_11491525-0295-4d6d-9119-4afe180d474d.parquet\n",
            "parts of /data/papers/s2orc/pubmed/20230714_111942_00012_e64uq_11491525-0295-4d6d-9119-4afe180d474d.parquet merged!\n",
            "started to write /data/papers/s2orc/pubmed/20230714_111942_00012_e64uq_9710ad0e-0abb-4a1b-a8d8-2d0a927650db.parquet\n",
            "parts of /data/papers/s2orc/pubmed/20230714_111942_00012_e64uq_9710ad0e-0abb-4a1b-a8d8-2d0a927650db.parquet merged!\n",
            "started to write /data/papers/s2orc/pubmed/20230714_111942_00012_e64uq_6f7834a8-c01d-44c0-9699-c5e5059ac6a4.parquet\n",
            "parts of /data/papers/s2orc/pubmed/20230714_111942_00012_e64uq_6f7834a8-c01d-44c0-9699-c5e5059ac6a4.parquet merged!\n",
            "started to write /data/papers/s2orc/pubmed/20230714_111942_00012_e64uq_77b91913-5dee-4296-a745-027a996aa2be.parquet\n",
            "parts of /data/papers/s2orc/pubmed/20230714_111942_00012_e64uq_77b91913-5dee-4296-a745-027a996aa2be.parquet merged!\n",
            "started to write /data/papers/s2orc/pubmed/20230714_111942_00012_e64uq_dad816f4-cf5f-45f9-a193-b8cbc5b8c5b2.parquet\n",
            "parts of /data/papers/s2orc/pubmed/20230714_111942_00012_e64uq_dad816f4-cf5f-45f9-a193-b8cbc5b8c5b2.parquet merged!\n",
            "started to write /data/papers/s2orc/pubmed/20230714_111942_00012_e64uq_50ba710e-a79c-4f45-9072-1c744987d682.parquet\n",
            "parts of /data/papers/s2orc/pubmed/20230714_111942_00012_e64uq_50ba710e-a79c-4f45-9072-1c744987d682.parquet merged!\n",
            "started to write /data/papers/s2orc/pubmed/20230714_111942_00012_e64uq_d056b2a6-d2e2-4b6a-bb25-6504e21d53ae.parquet\n",
            "parts of /data/papers/s2orc/pubmed/20230714_111942_00012_e64uq_d056b2a6-d2e2-4b6a-bb25-6504e21d53ae.parquet merged!\n",
            "started to write /data/papers/s2orc/pubmed/20230714_111942_00012_e64uq_0b2cf919-e7cc-4448-8df7-382006345add.parquet\n",
            "parts of /data/papers/s2orc/pubmed/20230714_111942_00012_e64uq_0b2cf919-e7cc-4448-8df7-382006345add.parquet merged!\n",
            "started to write /data/papers/s2orc/pubmed/20230714_111942_00012_e64uq_176e01eb-8dc7-474f-bb9b-ef144daec797.parquet\n",
            "parts of /data/papers/s2orc/pubmed/20230714_111942_00012_e64uq_176e01eb-8dc7-474f-bb9b-ef144daec797.parquet merged!\n",
            "started to write /data/papers/s2orc/pubmed/20230714_111942_00012_e64uq_1af209fc-121b-4ee5-b539-a9aabf0ebf22.parquet\n",
            "parts of /data/papers/s2orc/pubmed/20230714_111942_00012_e64uq_1af209fc-121b-4ee5-b539-a9aabf0ebf22.parquet merged!\n",
            "started to write /data/papers/s2orc/pubmed/20230714_111942_00012_e64uq_fa26c0dd-5c6d-4f66-a159-86f3013e2f9c.parquet\n",
            "parts of /data/papers/s2orc/pubmed/20230714_111942_00012_e64uq_fa26c0dd-5c6d-4f66-a159-86f3013e2f9c.parquet merged!\n",
            "started to write /data/papers/s2orc/pubmed/20230714_111942_00012_e64uq_f32a21a4-6f01-4b59-95c0-7f28eb73c926.parquet\n",
            "parts of /data/papers/s2orc/pubmed/20230714_111942_00012_e64uq_f32a21a4-6f01-4b59-95c0-7f28eb73c926.parquet merged!\n",
            "started to write /data/papers/s2orc/pubmed/20230714_111942_00012_e64uq_39b23e87-88e8-4273-bc47-5d6d0885f29f.parquet\n",
            "parts of /data/papers/s2orc/pubmed/20230714_111942_00012_e64uq_39b23e87-88e8-4273-bc47-5d6d0885f29f.parquet merged!\n",
            "started to write /data/papers/s2orc/pubmed/20230714_111942_00012_e64uq_6cf5d0f4-35cc-45ec-8f4a-c1f3ac258109.parquet\n",
            "parts of /data/papers/s2orc/pubmed/20230714_111942_00012_e64uq_6cf5d0f4-35cc-45ec-8f4a-c1f3ac258109.parquet merged!\n",
            "started to write /data/papers/s2orc/pubmed/20230714_111942_00012_e64uq_6be90075-1dfc-474c-acfe-79c1276ca297.parquet\n",
            "parts of /data/papers/s2orc/pubmed/20230714_111942_00012_e64uq_6be90075-1dfc-474c-acfe-79c1276ca297.parquet merged!\n",
            "started to write /data/papers/s2orc/pubmed/20230714_111942_00012_e64uq_d27f8a2e-7e9f-4659-8cc4-f368c7b62dbd.parquet\n",
            "parts of /data/papers/s2orc/pubmed/20230714_111942_00012_e64uq_d27f8a2e-7e9f-4659-8cc4-f368c7b62dbd.parquet merged!\n",
            "started to write /data/papers/s2orc/pubmed/20230714_111942_00012_e64uq_37b98fce-eec4-49e8-ab20-1f2d1421f85c.parquet\n",
            "parts of /data/papers/s2orc/pubmed/20230714_111942_00012_e64uq_37b98fce-eec4-49e8-ab20-1f2d1421f85c.parquet merged!\n",
            "started to write /data/papers/s2orc/pubmed/20230714_111942_00012_e64uq_cb4cc7bf-f2bc-4916-9981-df82ab91d60e.parquet\n",
            "parts of /data/papers/s2orc/pubmed/20230714_111942_00012_e64uq_cb4cc7bf-f2bc-4916-9981-df82ab91d60e.parquet merged!\n",
            "started to write /data/papers/s2orc/pubmed/20230714_111942_00012_e64uq_c3d25d47-2968-424f-b84c-b5d8683cf1bc.parquet\n",
            "parts of /data/papers/s2orc/pubmed/20230714_111942_00012_e64uq_c3d25d47-2968-424f-b84c-b5d8683cf1bc.parquet merged!\n",
            "started to write /data/papers/s2orc/pubmed/20230714_111942_00012_e64uq_8c8564c9-376d-438e-9e07-7dcae84848c1.parquet\n",
            "parts of /data/papers/s2orc/pubmed/20230714_111942_00012_e64uq_8c8564c9-376d-438e-9e07-7dcae84848c1.parquet merged!\n"
          ],
          "output_type" : "stream"
        }
      ]
    },
    {
      "cell_type" : "markdown",
      "execution_count" : 21,
      "metadata" : {
        "language" : "text"
      },
      "language" : "text",
      "source" : [
        "Loading resulting parquet files into memory"
      ],
      "outputs" : [
      ]
    },
    {
      "cell_type" : "code",
      "execution_count" : 24,
      "metadata" : {
        "language" : "scala"
      },
      "language" : "scala",
      "source" : [
      ],
      "outputs" : [
      ]
    },
    {
      "cell_type" : "markdown",
      "execution_count" : 23,
      "metadata" : {
        "language" : "text"
      },
      "language" : "text",
      "source" : [
      ],
      "outputs" : [
      ]
    }
  ]
}